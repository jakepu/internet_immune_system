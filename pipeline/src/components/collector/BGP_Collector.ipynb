{
 "metadata": {
  "language_info": {
   "codemirror_mode": {
    "name": "ipython",
    "version": 3
   },
   "file_extension": ".py",
   "mimetype": "text/x-python",
   "name": "python",
   "nbconvert_exporter": "python",
   "pygments_lexer": "ipython3",
   "version": "3.8.3-final"
  },
  "orig_nbformat": 2,
  "kernelspec": {
   "name": "Python 3.8.3 64-bit ('anaconda3': virtualenv)",
   "display_name": "Python 3.8.3 64-bit ('anaconda3': virtualenv)",
   "metadata": {
    "interpreter": {
     "hash": "6aee4f39eba147985a2c1cbf1db4ebecc02362fa8877deaa860706b7b1b97f3d"
    }
   }
  }
 },
 "nbformat": 4,
 "nbformat_minor": 2,
 "cells": [
  {
   "cell_type": "code",
   "execution_count": 6,
   "metadata": {},
   "outputs": [],
   "source": [
    "import datetime\n",
    "import sys\n",
    "import os\n",
    "import subprocess"
   ]
  },
  {
   "cell_type": "code",
   "execution_count": null,
   "metadata": {},
   "outputs": [],
   "source": [
    "class BGP_Collector:\n",
    "    bgp_url = 'rsync://archive.routeviews.org/routeviews/bgpdata/'\n",
    "    def __init__(self):\n",
    "        self.local_path = os.path.dirname(os.path.realpath(__file__)) + '/../../../data/bgp_updates'\n",
    "        self.local_path = os.path.realpath(self.local_path)\n",
    "        print(self.local_path)\n",
    "        self._check_new_update()\n",
    "    def _check_new_update(self):\n",
    "        # dry run: rsync -avz -n --stats rsync://archive.routeviews.org/routeviews/bgpdata/ .\n",
    "        if subprocess.check_output([\"rsync\",\"-az\", BGP_Collector.bgp_url, self.local_path], text=True) == '':\n",
    "            return False\n",
    "        return True\n",
    "        \"\"\"\n",
    "        if subprocess.check_output([\"rsync\",\"-az\", BGP_Collector.bgp_url, self.local_path], text=True) != '':\n",
    "            fire('new_bgp_packages')\n",
    "        \"\"\"    \n",
    "if __name__ == '__main__':\n",
    "    BGP_Collector()"
   ]
  },
  {
   "cell_type": "code",
   "execution_count": null,
   "metadata": {},
   "outputs": [],
   "source": []
  }
 ]
}