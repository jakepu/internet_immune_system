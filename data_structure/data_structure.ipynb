{
 "cells": [
  {
   "cell_type": "code",
   "execution_count": 331,
   "metadata": {},
   "outputs": [],
   "source": [
    "import time\n",
    "import datetime\n",
    "import numpy as np\n",
    "\n",
    "# @to_do: do BFS using Customer > Peer > Provider order for trial() function\n",
    "# @to_do: grpah component need to change to three sets to provide three kinds of neighbors\n",
    "class Internet:\n",
    "    def __init__(self, last_updated_time, AS_set=None, graph_component = None):\n",
    "        if(isinstance(last_updated_time, datetime.datetime)):\n",
    "            self._time = last_updated_time\n",
    "        else:\n",
    "            print(\"Error: Internet: invalid last_updated_time passed\")\n",
    "        self.AS_set = np.array([], dtype = object)\n",
    "        self.AS_numbers = self.set_AS_set(AS_set)\n",
    "        for key in graph_component:\n",
    "            flag = True\n",
    "            if key not in self.AS_numbers:\n",
    "                flag = False\n",
    "                print('Error: Internet: graph component does not match the AS numbers passed in ', key)\n",
    "        if flag:\n",
    "            for key in graph_component:\n",
    "                for neighbors in graph_component[key]:\n",
    "                    tmp = self.get_AS_by_number(key)\n",
    "                    neighbor_tmp = self.get_AS_by_number(neighbors)\n",
    "                    # one direction, can change to two direction\n",
    "                    tmp.set_neighbors(np.array([neighbor_tmp], dtype = object))\n",
    "                \n",
    "    def set_AS_set(self, AS_set):\n",
    "        AS_number = []\n",
    "        for AS in AS_set:\n",
    "            if AS.number not in AS_number:\n",
    "                self.AS_set = np.append(self.AS_set, AS)\n",
    "                AS_number.append(AS.number)\n",
    "            else:\n",
    "                print('Error: Internet: redundent AS number ', AS.number)\n",
    "        return AS_number\n",
    "    \n",
    "    def get_AS_by_number(self, as_number):\n",
    "        for AS in self.AS_set:\n",
    "            if AS.number == as_number:\n",
    "                return AS\n",
    "        print(\"AS not in as set\")\n",
    "        return None\n",
    "    \n",
    "    def add_connection(self, AS1, AS2):\n",
    "        if AS1.number not in self.AS_numbers:\n",
    "            self.AS_numbers.append(AS1.number)\n",
    "            self.AS_set = np.append(self.AS_set, AS1)\n",
    "        if AS2.number not in self.AS_numbers:\n",
    "            self.AS_numbers.append(AS2.number)\n",
    "            self.AS_set = np.append(self.AS_set, AS2)\n",
    "        # one direction, can change to two direction by add following\n",
    "        # AS2.set_neighbors(np.array([AS1], dtype = object))\n",
    "        AS1.set_neighbors(np.array([AS2], dtype = object))\n",
    "    def trial(self, AS1, AS2):\n",
    "        queue = np.array([AS1],dtype = object)\n",
    "        trial = {}\n",
    "        visited = {AS1.number: 1}\n",
    "        while queue.size > 0:\n",
    "            current = queue[-1]\n",
    "            queue = queue[:-1]\n",
    "            if current.number == AS2.number:\n",
    "                result = [AS2.number]\n",
    "                while AS2.number in trial:\n",
    "                    AS2.number = trial[AS2.number]\n",
    "                    result.insert(0, AS2.number)\n",
    "                return result\n",
    "            for neighbor in current.neighbors:\n",
    "                if neighbor.number not in visited:\n",
    "                    trial[neighbor.number] = current.number\n",
    "                    queue = np.append(neighbor, queue)\n",
    "                    visited[neighbor.number] = 1\n",
    "        return []\n",
    "    def distance(self, AS1, AS2):\n",
    "        len_trial = len(self.trial(AS1, AS2))\n",
    "        if len_trial > 1:\n",
    "            return len_trial - 1;\n",
    "        print(\"The input ASes are not connected, or inputs are the same\")\n",
    "        return 0\n",
    "    \n",
    "    def get_edges(self):\n",
    "        edgename = []\n",
    "        for AS in self.AS_set:\n",
    "            for neighbor in AS.neighbors:\n",
    "                if {AS.number, neighbor.number} not in edgename:\n",
    "                    edgename.append({AS.number, neighbor.number})\n",
    "        return edgename\n",
    "    def get_vertices(self):\n",
    "        vtx = []\n",
    "        for AS in self.AS_set:\n",
    "            if AS.number not in self.AS_set:\n",
    "                vtx.append(AS.number)\n",
    "        return vtx  \n",
    "    def get_prefix_set(self):\n",
    "        prefixes = np.array([], dtype = object)\n",
    "        for AS in self.AS_set:\n",
    "            for routers in AS.routers:\n",
    "                for prefix in routers.prefix_set:\n",
    "                    if prefix not in prefixes:\n",
    "                        prefixes = np.append(prefix, prefixes)\n",
    "        return prefixes"
   ]
  },
  {
   "cell_type": "code",
   "execution_count": 332,
   "metadata": {},
   "outputs": [],
   "source": [
    "import numpy as np\n",
    "geo_location_set = ['Asia', 'US', 'Europe', 'Australia', 'Africa','SouthernAmerica']\n",
    "as_type_set = ['enterprise', 'private', 'non-profit']\n",
    "\n",
    "# @to_do: keep three sets of neighbors, Customer, Peer, Provider\n",
    "class AS:\n",
    "    def __init__(self, as_type=None, geo_location=None, routers = None, number=None, neighbors=None):\n",
    "        if as_type in as_type_set:\n",
    "            self.as_type = as_type\n",
    "        else:\n",
    "            print(\"Error: in AS: as_type not match\")\n",
    "        if geo_location in geo_location_set:\n",
    "            self.geo_location = geo_location\n",
    "        else:\n",
    "            print(\"Error: in AS: geo_location not match\")\n",
    "        if( number >= 0 and number <= 10000):\n",
    "            self.number = number\n",
    "        else:\n",
    "            print(\"Error: in AS: as_number does not match\")\n",
    "        self.routers = np.array([], dtype = object)\n",
    "        self.neighbors = np.array([], dtype = object)\n",
    "        self.set_routers_set(routers)\n",
    "        if neighbors != None:\n",
    "            self.set_neighbors(neighbors)\n",
    "    def set_routers_set(self, routers):\n",
    "        for router in routers:\n",
    "            self.routers = np.append(self.routers, router)\n",
    "    def set_neighbors(self, neighbors):\n",
    "        for neighbor in neighbors:\n",
    "            if isinstance(neighbor, AS):\n",
    "                if neighbor.number != self.number and neighbor not in self.neighbors:\n",
    "                    self.neighbors = np.append(self.neighbors, neighbor)\n",
    "            else:\n",
    "               print(\"neighbor type not correct\")"
   ]
  },
  {
   "cell_type": "code",
   "execution_count": 333,
   "metadata": {},
   "outputs": [],
   "source": [
    "import numpy as np\n",
    "import re\n",
    "regex_IPprefix = re.compile('^([0-9]{1,3}\\.){3}[0-9]{1,3}(\\/([0-9]|[1-2][0-9]|3[0-2]))?$')\n",
    "\n",
    "# @to do: when set the hosts, check if host IP address match the prefix after mask\n",
    "class Prefix:\n",
    "    def __init__(self, prefix=None, hosts=None, mask = None):\n",
    "        self.hosts = np.array([], dtype = object)\n",
    "        self.prefix = prefix\n",
    "        self.set_hosts(hosts, prefix)\n",
    "    def set_hosts(self, hosts, prefix):\n",
    "        for host in hosts:\n",
    "            self.hosts = np.append(self.hosts, host)\n",
    "    def contains(self, IP_address):\n",
    "        for i in range(len(self.hosts)):\n",
    "            if (self.hosts[i].IP == IP_address):\n",
    "                return True\n",
    "        return False\n",
    "    def subnet_size(self):\n",
    "        return len(self.hosts)"
   ]
  },
  {
   "cell_type": "code",
   "execution_count": 334,
   "metadata": {},
   "outputs": [],
   "source": [
    "import numpy as np\n",
    "import re\n",
    "regex_IPprefix = re.compile('^([0-9]{1,3}\\.){3}[0-9]{1,3}(\\/([0-9]|[1-2][0-9]|3[0-2]))?$')\n",
    "\n",
    "class Routers:\n",
    "    def __init__(self, prefix_set=None):\n",
    "        self.prefix_set = np.array([], dtype = object)\n",
    "        self.set_prefix_set(prefix_set)\n",
    "    def set_prefix_set(self, prefix_set):\n",
    "        for prefix in prefix_set:\n",
    "            if(regex_IPprefix.match(prefix.prefix)):\n",
    "                self.prefix_set = np.append(self.prefix_set, prefix)\n",
    "            else:\n",
    "                print(\"Error: Routers: router prefix does not fit IPV4 regex\")"
   ]
  },
  {
   "cell_type": "code",
   "execution_count": 335,
   "metadata": {},
   "outputs": [],
   "source": [
    "import numpy as np\n",
    "import re\n",
    "regex_DNS = re.compile('^(?![0-9]+$)(?!-)[a-zA-Z0-9-]{,63}(?<!-)$')\n",
    "regex_IP = re.compile(r'^\\d{1,3}\\.\\d{1,3}\\.\\d{1,3}\\.\\d{1,3}$')\n",
    "\n",
    "class Host:\n",
    "    def __init__(self, SSL_version=None, DNS_name=None, IP=None):\n",
    "        self.set_DNS_name(DNS_name)\n",
    "        self.set_SSL_version(SSL_version)\n",
    "        self.set_IP(IP)\n",
    "    \n",
    "    def set_IP(self, IP):\n",
    "        if(regex_IP.match(IP)):\n",
    "            self.IP = IP\n",
    "        else:\n",
    "            print(\"Error: Hosts: IP type does not match IPV4\")\n",
    "    def set_DNS_name(self, DNS_name):\n",
    "        if(regex_DNS.match(DNS_name)):\n",
    "            self.DNS_name = DNS_name\n",
    "        else:\n",
    "            print(\"Error: Hosts: DNS_name type does not match\")\n",
    "    def set_SSL_version(self, SSL_version):\n",
    "        if(isinstance(SSL_version, float)):\n",
    "            self.SSL_version = SSL_version\n",
    "        else:\n",
    "            print(\"Error: Hosts: SSL_version type does not match\")"
   ]
  },
  {
   "cell_type": "code",
   "execution_count": 336,
   "metadata": {},
   "outputs": [
    {
     "name": "stdout",
     "output_type": "stream",
     "text": [
      "[<__main__.Routers object at 0x11489b290>\n",
      " <__main__.Routers object at 0x114b04d50>\n",
      " <__main__.Routers object at 0x114b04d10>\n",
      " <__main__.Routers object at 0x114b04b90>\n",
      " <__main__.Routers object at 0x114b04c50>\n",
      " <__main__.Routers object at 0x114b04d90>]\n"
     ]
    }
   ],
   "source": [
    "# this function is used to test the functionality of the data structure\n",
    "# run main.py will do the test\n",
    "host = Host(3.5, 'abc', '200.4.5.7')\n",
    "AS_list = np.array([], dtype = object)\n",
    "Host_list = np.array([], dtype = object)\n",
    "for i in range(10):\n",
    "    Host_list = np.append(Host_list ,Host(3 + i/10, 'abc', '200.4.5.7'))\n",
    "\n",
    "a = Prefix('200.4.0.1/24',Host_list)\n",
    "\n",
    "a = Prefix('200.4.0.1/24',Host_list)\n",
    "a.contains('200.4.5.7')\n",
    "\n",
    "prefix_list = np.array([], dtype = object)\n",
    "for i in range(5):\n",
    "    prefix_list = np.append(prefix_list, Prefix('200.4.0.1/24',Host_list))\n",
    "\n",
    "b = Routers(prefix_list).prefix_set[0].hosts[0].IP\n",
    "\n",
    "router_list = np.array([], dtype = object)\n",
    "for i in range(6):\n",
    "    router_list = np.append(router_list, Routers(prefix_list))\n",
    "\n",
    "as_system1 = AS('enterprise','US',router_list, 1,)\n",
    "as_system2 = AS('private','Asia',router_list, 2,)\n",
    "as_system3 = AS('non-profit','Europe',router_list, 3,)\n",
    "as_system4 = AS('non-profit','Europe',router_list, 4,)\n",
    "as_list = np.array([as_system1, as_system2, as_system3, as_system4], dtype = object)\n",
    "graph_component = {1:[2,3],\n",
    "                   2:[1],\n",
    "                   3:[1, 2],}\n",
    "\n",
    "a = Internet(datetime.datetime.now(), as_list, graph_component)\n",
    "a.add_connection(as_system2, as_system4)\n",
    "print(as_system1.routers)"
   ]
  },
  {
   "cell_type": "code",
   "execution_count": 337,
   "metadata": {},
   "outputs": [
    {
     "name": "stdout",
     "output_type": "stream",
     "text": [
      "[<__main__.AS object at 0x114b04b50> <__main__.AS object at 0x114b04ed0>]\n"
     ]
    }
   ],
   "source": [
    "print(as_system2.neighbors)"
   ]
  },
  {
   "cell_type": "code",
   "execution_count": 338,
   "metadata": {},
   "outputs": [],
   "source": [
    "as_system2.geo_location = \"US\""
   ]
  },
  {
   "cell_type": "code",
   "execution_count": 339,
   "metadata": {},
   "outputs": [
    {
     "data": {
      "text/plain": [
       "[{1, 2}, {1, 3}, {2, 4}, {2, 3}, {3, 4}]"
      ]
     },
     "execution_count": 339,
     "metadata": {},
     "output_type": "execute_result"
    }
   ],
   "source": [
    "a.add_connection(as_system4, as_system3)\n",
    "a.get_edges()"
   ]
  },
  {
   "cell_type": "code",
   "execution_count": 340,
   "metadata": {},
   "outputs": [
    {
     "data": {
      "text/plain": [
       "[4, 3, 1]"
      ]
     },
     "execution_count": 340,
     "metadata": {},
     "output_type": "execute_result"
    }
   ],
   "source": [
    "a.trial(as_system4, as_system1)"
   ]
  },
  {
   "cell_type": "code",
   "execution_count": null,
   "metadata": {},
   "outputs": [],
   "source": []
  },
  {
   "cell_type": "code",
   "execution_count": null,
   "metadata": {},
   "outputs": [],
   "source": []
  },
  {
   "cell_type": "code",
   "execution_count": null,
   "metadata": {},
   "outputs": [],
   "source": []
  }
 ],
 "metadata": {
  "kernelspec": {
   "display_name": "Python 3",
   "language": "python",
   "name": "python3"
  },
  "language_info": {
   "codemirror_mode": {
    "name": "ipython",
    "version": 3
   },
   "file_extension": ".py",
   "mimetype": "text/x-python",
   "name": "python",
   "nbconvert_exporter": "python",
   "pygments_lexer": "ipython3",
   "version": "3.7.6"
  }
 },
 "nbformat": 4,
 "nbformat_minor": 4
}
