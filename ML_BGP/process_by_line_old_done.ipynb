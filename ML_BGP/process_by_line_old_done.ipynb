{
 "cells": [
  {
   "cell_type": "code",
   "execution_count": 2,
   "metadata": {},
   "outputs": [],
   "source": [
    "import pandas as pd\n",
    "import os\n",
    "import pickle"
   ]
  },
  {
   "cell_type": "code",
   "execution_count": null,
   "metadata": {},
   "outputs": [],
   "source": [
    "# paths\n",
    "directory = '/home/jake/Documents/ML_BGP/results'\n",
    "snapshot_dir = '/home/jake/Documents/ML_BGP'"
   ]
  },
  {
   "cell_type": "code",
   "execution_count": null,
   "metadata": {},
   "outputs": [],
   "source": [
    "# initialize variables\n",
    "prefix_dict = dict()"
   ]
  },
  {
   "cell_type": "code",
   "execution_count": 3,
   "metadata": {},
   "outputs": [],
   "source": [
    "# constants\n",
    "ACTION_IDX = 2\n",
    "PREFIX_IDX = 5\n",
    "TIME_IDX = 1\n",
    "VPASN_IDX = 4\n",
    "PATH_IDX = 6"
   ]
  },
  {
   "cell_type": "code",
   "execution_count": 4,
   "metadata": {},
   "outputs": [],
   "source": [
    "class record:\n",
    "    def __init__(self, init_state, time):\n",
    "        self.last_state = init_state\n",
    "        self.times = []\n",
    "        self.timestamp = float(time)\n",
    "        self.counter = 0\n",
    "    def update(self, state, time):\n",
    "        if state == 'W' and (self.last_state == 'B' or self.last_state == 'A'):\n",
    "            self.last_state = 'W'\n",
    "            self.times.append(float(time) - self.timestamp)\n",
    "            self.timestamp = float(time)\n",
    "            self.counter += 1\n",
    "        elif state == 'A' and self.last_state == 'W':\n",
    "            self.last_state = 'A'\n",
    "            self.timestamp = float(time)"
   ]
  },
  {
   "cell_type": "code",
   "execution_count": null,
   "metadata": {},
   "outputs": [],
   "source": [
    "# find a rib file (snapshot) to set up initial state for all prefixes\n",
    "for filename in os.listdir(snapshot_dir):\n",
    "    if 'rib' in filename:\n",
    "        with open(filename, 'r') as file:\n",
    "            lines = file.readlines()\n",
    "            for line in lines:\n",
    "                line = line.strip('\\n').split('|')\n",
    "                key = (line[PREFIX_IDX], line[VPASN_IDX])\n",
    "                prefix_dict[key] = record(line[ACTION_IDX], line[TIME_IDX])\n",
    "        break\n"
   ]
  },
  {
   "cell_type": "code",
   "execution_count": null,
   "metadata": {},
   "outputs": [],
   "source": [
    "# scan through available updates and record all uptimes\n",
    "update_dir_list = sorted(os.listdir(directory))\n",
    "for filename in update_dir_list:\n",
    "    if filename.endswith(\".txt\"):\n",
    "        with open('./results/' + filename, 'r') as file:\n",
    "            lines = file.readlines()\n",
    "            for line in lines:\n",
    "                line = line.strip('\\n').split('|')\n",
    "                key = (line[PREFIX_IDX], line[VPASN_IDX])\n",
    "                if key not in prefix_dict and line[ACTION_IDX] == 'A':\n",
    "                    prefix_dict[key] = record(line[ACTION_IDX], line[TIME_IDX])\n",
    "                elif key in prefix_dict:\n",
    "                    prefix_dict[key].update(line[ACTION_IDX], line[TIME_IDX])"
   ]
  },
  {
   "cell_type": "code",
   "execution_count": null,
   "metadata": {
    "tags": []
   },
   "outputs": [],
   "source": [
    "print(len(prefix_dict))"
   ]
  },
  {
   "cell_type": "code",
   "execution_count": null,
   "metadata": {},
   "outputs": [],
   "source": [
    "print(prefix_dict[('1.0.0.0/24', 3130)])"
   ]
  },
  {
   "cell_type": "code",
   "execution_count": null,
   "metadata": {},
   "outputs": [],
   "source": [
    "max_num = 0\n",
    "for item in prefix_dict.items():\n",
    "    if len(item[1].times) > max_num:\n",
    "        max_num = len(item[1].times)\n",
    "        item_max = item\n",
    "print(item_max[0], max_num)"
   ]
  },
  {
   "cell_type": "code",
   "execution_count": null,
   "metadata": {},
   "outputs": [],
   "source": [
    "print(prefix_dict[('91.203.234.0/24', '8492')].counter)"
   ]
  },
  {
   "cell_type": "code",
   "execution_count": null,
   "metadata": {},
   "outputs": [],
   "source": [
    "with open('save.pickle', 'wb') as f:\n",
    "    pickle.dump(prefix_dict ,f)"
   ]
  },
  {
   "cell_type": "code",
   "execution_count": 5,
   "metadata": {},
   "outputs": [],
   "source": [
    "with open('save.pickle', 'rb') as f:\n",
    "    test_dict = pickle.load(f)"
   ]
  },
  {
   "cell_type": "code",
   "execution_count": 6,
   "metadata": {},
   "outputs": [
    {
     "name": "stdout",
     "output_type": "stream",
     "text": [
      "29373890\n"
     ]
    }
   ],
   "source": [
    "print(len(test_dict))"
   ]
  },
  {
   "cell_type": "code",
   "execution_count": 5,
   "metadata": {},
   "outputs": [],
   "source": [
    "data = sorted(test_dict.items(), key = lambda item: item[1].counter , reverse = True)"
   ]
  },
  {
   "cell_type": "code",
   "execution_count": null,
   "metadata": {},
   "outputs": [],
   "source": [
    "del test_dict"
   ]
  },
  {
   "cell_type": "code",
   "execution_count": 22,
   "metadata": {},
   "outputs": [
    {
     "name": "stdout",
     "output_type": "stream",
     "text": [
      "29373890\n"
     ]
    }
   ],
   "source": [
    "print(len(data))"
   ]
  },
  {
   "cell_type": "code",
   "execution_count": 23,
   "metadata": {},
   "outputs": [],
   "source": [
    "with open('save_sorted.pickle', 'wb') as f:\n",
    "    pickle.dump(data[:90000:500] ,f)"
   ]
  },
  {
   "cell_type": "code",
   "execution_count": null,
   "metadata": {
    "tags": []
   },
   "outputs": [],
   "source": [
    "for i in range(len(data)):\n",
    "    if data[i][1].counter < 400:\n",
    "        print('the %dth data has sample size less than 50' % i)\n",
    "        break"
   ]
  },
  {
   "cell_type": "code",
   "execution_count": 6,
   "metadata": {},
   "outputs": [],
   "source": [
    "import matplotlib.pyplot as plt"
   ]
  },
  {
   "cell_type": "code",
   "execution_count": 21,
   "metadata": {},
   "outputs": [
    {
     "data": {
      "text/plain": [
       "[<matplotlib.lines.Line2D at 0x7f0e61c3ffd0>]"
      ]
     },
     "execution_count": 21,
     "metadata": {},
     "output_type": "execute_result"
    },
    {
     "data": {
      "image/png": "[encoded data removed]",
      "text/plain": [
       "<Figure size 432x288 with 1 Axes>"
      ]
     },
     "metadata": {
      "needs_background": "light"
     },
     "output_type": "display_data"
    }
   ],
   "source": [
    "plt.plot(data[10000][1].times[:])"
   ]
  },
  {
   "cell_type": "code",
   "execution_count": null,
   "metadata": {},
   "outputs": [],
   "source": [
    "print(item_max[1].times[-1])"
   ]
  },
  {
   "cell_type": "code",
   "execution_count": null,
   "metadata": {},
   "outputs": [],
   "source": []
  }
 ],
 "metadata": {
  "kernelspec": {
   "display_name": "Python 3",
   "language": "python",
   "name": "python3"
  },
  "language_info": {
   "codemirror_mode": {
    "name": "ipython",
    "version": 3
   },
   "file_extension": ".py",
   "mimetype": "text/x-python",
   "name": "python",
   "nbconvert_exporter": "python",
   "pygments_lexer": "ipython3",
   "version": "3.8.3"
  }
 },
 "nbformat": 4,
 "nbformat_minor": 2
}
