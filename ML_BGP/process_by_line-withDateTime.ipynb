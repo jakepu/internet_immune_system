{
 "cells": [
  {
   "cell_type": "code",
   "execution_count": 1,
   "metadata": {},
   "outputs": [],
   "source": [
    "import pandas as pd\n",
    "import os\n",
    "import pickle\n",
    "from random import choice\n",
    "from datetime import datetime\n",
    "from sys import getsizeof"
   ]
  },
  {
   "cell_type": "code",
   "execution_count": 2,
   "metadata": {},
   "outputs": [],
   "source": [
    "# paths\n",
    "directory = '/home/jake/Documents/ML_BGP/results'\n",
    "snapshot_dir = '/home/jake/Documents/ML_BGP'"
   ]
  },
  {
   "cell_type": "code",
   "execution_count": 3,
   "metadata": {},
   "outputs": [],
   "source": [
    "# initialize variables\n",
    "prefix_dict = dict()"
   ]
  },
  {
   "cell_type": "code",
   "execution_count": 4,
   "metadata": {},
   "outputs": [],
   "source": [
    "# constants\n",
    "ACTION_IDX = 2\n",
    "PREFIX_IDX = 5\n",
    "TIME_IDX = 1\n",
    "VPASN_IDX = 4"
   ]
  },
  {
   "cell_type": "code",
   "execution_count": 5,
   "metadata": {},
   "outputs": [
    {
     "data": {
      "text/plain": [
       "63"
      ]
     },
     "execution_count": 5,
     "metadata": {},
     "output_type": "execute_result"
    }
   ],
   "source": [
    "getsizeof('192.168.0.0/24')\n"
   ]
  },
  {
   "cell_type": "code",
   "execution_count": 6,
   "metadata": {},
   "outputs": [],
   "source": [
    "# datetime.utcfromtimestamp(start)\n",
    "class record_new:\n",
    "    def __init__(self, init_state, time):\n",
    "        self.last_state = init_state\n",
    "        self.timestamps = []\n",
    "        self.timestamp = float(time)\n",
    "    def update(self, state, time):\n",
    "        if state == 'W' and (self.last_state == 'B' or self.last_state == 'A'):\n",
    "            self.last_state = 'W'\n",
    "            self.timestamps.append([self.timestamp, float(time)])\n",
    "        elif state == 'A' and self.last_state == 'W':\n",
    "            self.last_state = 'A'\n",
    "            self.timestamp = float(time)"
   ]
  },
  {
   "cell_type": "code",
   "execution_count": 7,
   "metadata": {},
   "outputs": [],
   "source": [
    "# find a rib file (snapshot) to set up initial state for all prefixes\n",
    "for filename in os.listdir(snapshot_dir):\n",
    "    if 'rib' in filename:\n",
    "        with open(filename, 'r') as file:\n",
    "            lines = file.readlines()\n",
    "            for line in lines:\n",
    "                line = line.strip('\\n').split('|')\n",
    "                key = (line[VPASN_IDX], line[PREFIX_IDX])\n",
    "                prefix_dict[key] = record_new(line[ACTION_IDX], line[TIME_IDX])\n",
    "        break"
   ]
  },
  {
   "cell_type": "code",
   "execution_count": 8,
   "metadata": {},
   "outputs": [],
   "source": [
    "# scan through available updates and record all uptimes\n",
    "update_dir_list = sorted(os.listdir(directory))\n",
    "for filename in update_dir_list:\n",
    "    if filename.endswith(\".txt\"):\n",
    "        with open('./results/' + filename, 'r') as file:\n",
    "            lines = file.readlines()\n",
    "            for line in lines:\n",
    "                line = line.strip('\\n').split('|')\n",
    "                key = (line[VPASN_IDX], line[PREFIX_IDX])\n",
    "                if key not in prefix_dict and line[ACTION_IDX] == 'A':\n",
    "                    prefix_dict[key] = record_new(line[ACTION_IDX], line[TIME_IDX])\n",
    "                elif key in prefix_dict:\n",
    "                    prefix_dict[key].update(line[ACTION_IDX], line[TIME_IDX])"
   ]
  },
  {
   "cell_type": "code",
   "execution_count": 9,
   "metadata": {
    "tags": []
   },
   "outputs": [
    {
     "name": "stdout",
     "output_type": "stream",
     "text": [
      "29373890\n"
     ]
    }
   ],
   "source": [
    "print(len(prefix_dict))"
   ]
  },
  {
   "cell_type": "code",
   "execution_count": 22,
   "metadata": {},
   "outputs": [],
   "source": [
    "def ip_to_binary(ip):\n",
    "    octet_list_int = ip.split(\".\")\n",
    "    octet_list_bin = [format(int(i), '08b') for i in octet_list_int]\n",
    "    binary = (\"\").join(octet_list_bin)\n",
    "    return binary\n",
    "def get_addr_network(address, net_size):\n",
    "    #Convert ip address to 32 bit binary\n",
    "    ip_bin = ip_to_binary(address)\n",
    "    #Extract Network ID from 32 binary\n",
    "    network = ip_bin[0:32-(32-net_size)]    \n",
    "    return network\n",
    "def ip_in_prefix(ip_address, prefix):\n",
    "    #CIDR based separation of address and network size\n",
    "    [prefix_address, net_size] = prefix.split(\"/\")\n",
    "    #Convert string to int\n",
    "    net_size = int(net_size)\n",
    "    #Get the network ID of both prefix and ip based net size\n",
    "    prefix_network = get_addr_network(prefix_address, net_size)\n",
    "    ip_network = get_addr_network(ip_address, net_size)\n",
    "    return ip_network == prefix_network\n",
    "def get_prefix_in_decimal(prefix):\n",
    "    [prefix_address, net_size] = prefix.split(\"/\")\n",
    "    prefix_network = get_addr_network(prefix_address, int(net_size))\n",
    "    return str(int(prefix_network,2))+'-'+net_size"
   ]
  },
  {
   "cell_type": "code",
   "execution_count": 28,
   "metadata": {},
   "outputs": [],
   "source": [
    "import csv\n",
    "back_up_path = './big_csv.csv'\n",
    "with open(back_up_path, 'w') as f:\n",
    "    csv_writer = csv.writer(f, delimiter=',')\n",
    "    for item in prefix_dict.items():\n",
    "        if len(item[1].timestamps) > 0:\n",
    "            counter = 0\n",
    "            for each_pair in item[1].timestamps:\n",
    "                row = [item[0][0],item[0][1], each_pair[0], each_pair[1],each_pair[1] - float(each_pair[0]), counter]\n",
    "                csv_writer.writerow(row)\n",
    "                counter += 1"
   ]
  },
  {
   "cell_type": "code",
   "execution_count": 29,
   "metadata": {},
   "outputs": [],
   "source": [
    "back_up_path = './stable_link.csv'\n",
    "with open(back_up_path, 'w') as f:\n",
    "    csv_writer = csv.writer(f, delimiter=',')\n",
    "    for item in prefix_dict.items():\n",
    "        if len(item[1].timestamps) == 0:\n",
    "                row = [item[0][0],item[0][1]]\n",
    "                csv_writer.writerow(row)"
   ]
  },
  {
   "cell_type": "code",
   "execution_count": null,
   "metadata": {
    "tags": []
   },
   "outputs": [],
   "source": [
    "data = sorted(prefix_dict.items(), key = lambda item: len(item[1].uptimes) , reverse = True)"
   ]
  },
  {
   "cell_type": "code",
   "execution_count": null,
   "metadata": {},
   "outputs": [],
   "source": [
    "for i in range(len(data)):\n",
    "    if (len(data[i][1].uptimes)) == 0:\n",
    "        print(i)\n",
    "        break"
   ]
  },
  {
   "cell_type": "code",
   "execution_count": 30,
   "metadata": {},
   "outputs": [],
   "source": [
    "with open('save.pickle', 'wb') as f:\n",
    "    pickle.dump(prefix_dict ,f)"
   ]
  },
  {
   "cell_type": "code",
   "execution_count": 32,
   "metadata": {},
   "outputs": [],
   "source": [
    "import dask.dataframe as dd\n",
    "from dask.distributed import Client\n",
    "client = Client()  # start distributed scheduler locally.  Launch dashboard\n",
    "# http://localhost:8787/status"
   ]
  },
  {
   "cell_type": "code",
   "execution_count": 36,
   "metadata": {},
   "outputs": [],
   "source": [
    "df = dd.read_csv('./stable_link.csv')\n",
    "dd.to_parquet(df,'./large_parquets/stable_link')"
   ]
  },
  {
   "cell_type": "code",
   "execution_count": 37,
   "metadata": {},
   "outputs": [],
   "source": [
    "df = dd.read_csv('./big_csv.csv')\n",
    "dd.to_parquet(df,'./large_parquets/big_csv')"
   ]
  },
  {
   "cell_type": "code",
   "execution_count": 38,
   "metadata": {},
   "outputs": [
    {
     "data": {
      "text/html": [
       "<div>\n",
       "<style scoped>\n",
       "    .dataframe tbody tr th:only-of-type {\n",
       "        vertical-align: middle;\n",
       "    }\n",
       "\n",
       "    .dataframe tbody tr th {\n",
       "        vertical-align: top;\n",
       "    }\n",
       "\n",
       "    .dataframe thead th {\n",
       "        text-align: right;\n",
       "    }\n",
       "</style>\n",
       "<table border=\"1\" class=\"dataframe\">\n",
       "  <thead>\n",
       "    <tr style=\"text-align: right;\">\n",
       "      <th></th>\n",
       "      <th>ASN</th>\n",
       "      <th>Prefix</th>\n",
       "      <th>Start Time</th>\n",
       "      <th>End Time</th>\n",
       "      <th>Uptime</th>\n",
       "      <th>Counter</th>\n",
       "    </tr>\n",
       "  </thead>\n",
       "  <tbody>\n",
       "    <tr>\n",
       "      <th>0</th>\n",
       "      <td>57463</td>\n",
       "      <td>1.0.0.0/24</td>\n",
       "      <td>1.593562e+09</td>\n",
       "      <td>1.593627e+09</td>\n",
       "      <td>65705.801747</td>\n",
       "      <td>0</td>\n",
       "    </tr>\n",
       "    <tr>\n",
       "      <th>1</th>\n",
       "      <td>18106</td>\n",
       "      <td>1.0.0.0/24</td>\n",
       "      <td>1.593562e+09</td>\n",
       "      <td>1.593984e+09</td>\n",
       "      <td>422868.447900</td>\n",
       "      <td>0</td>\n",
       "    </tr>\n",
       "    <tr>\n",
       "      <th>2</th>\n",
       "      <td>57866</td>\n",
       "      <td>1.0.0.0/24</td>\n",
       "      <td>1.593562e+09</td>\n",
       "      <td>1.593594e+09</td>\n",
       "      <td>32367.444219</td>\n",
       "      <td>0</td>\n",
       "    </tr>\n",
       "    <tr>\n",
       "      <th>3</th>\n",
       "      <td>57866</td>\n",
       "      <td>1.0.0.0/24</td>\n",
       "      <td>1.593594e+09</td>\n",
       "      <td>1.594283e+09</td>\n",
       "      <td>688706.428775</td>\n",
       "      <td>1</td>\n",
       "    </tr>\n",
       "    <tr>\n",
       "      <th>4</th>\n",
       "      <td>53767</td>\n",
       "      <td>1.0.4.0/22</td>\n",
       "      <td>1.593562e+09</td>\n",
       "      <td>1.594479e+09</td>\n",
       "      <td>917185.474684</td>\n",
       "      <td>0</td>\n",
       "    </tr>\n",
       "  </tbody>\n",
       "</table>\n",
       "</div>"
      ],
      "text/plain": [
       "     ASN      Prefix    Start Time      End Time         Uptime  Counter\n",
       "0  57463  1.0.0.0/24  1.593562e+09  1.593627e+09   65705.801747        0\n",
       "1  18106  1.0.0.0/24  1.593562e+09  1.593984e+09  422868.447900        0\n",
       "2  57866  1.0.0.0/24  1.593562e+09  1.593594e+09   32367.444219        0\n",
       "3  57866  1.0.0.0/24  1.593594e+09  1.594283e+09  688706.428775        1\n",
       "4  53767  1.0.4.0/22  1.593562e+09  1.594479e+09  917185.474684        0"
      ]
     },
     "execution_count": 38,
     "metadata": {},
     "output_type": "execute_result"
    }
   ],
   "source": [
    "df = dd.read_parquet('./large_parquets/big_csv')\n",
    "df.head()"
   ]
  },
  {
   "cell_type": "code",
   "execution_count": 46,
   "metadata": {},
   "outputs": [],
   "source": [
    "counter_df = df.groupby(['ASN','Prefix']).count()"
   ]
  },
  {
   "cell_type": "code",
   "execution_count": null,
   "metadata": {},
   "outputs": [],
   "source": []
  },
  {
   "cell_type": "code",
   "execution_count": null,
   "metadata": {},
   "outputs": [],
   "source": []
  }
 ],
 "metadata": {
  "kernelspec": {
   "display_name": "Python 3",
   "language": "python",
   "name": "python3"
  },
  "language_info": {
   "codemirror_mode": {
    "name": "ipython",
    "version": 3
   },
   "file_extension": ".py",
   "mimetype": "text/x-python",
   "name": "python",
   "nbconvert_exporter": "python",
   "pygments_lexer": "ipython3",
   "version": "3.8.3"
  }
 },
 "nbformat": 4,
 "nbformat_minor": 2
}
